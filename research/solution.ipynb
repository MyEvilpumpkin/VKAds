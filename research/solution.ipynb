{
 "cells": [
  {
   "cell_type": "markdown",
   "metadata": {},
   "source": [
    "# Решение"
   ]
  },
  {
   "cell_type": "markdown",
   "metadata": {},
   "source": [
    "## Подготовка"
   ]
  },
  {
   "cell_type": "markdown",
   "metadata": {},
   "source": [
    "Импортируем необходимые для начала работы библиотеки"
   ]
  },
  {
   "cell_type": "code",
   "execution_count": 1,
   "metadata": {},
   "outputs": [],
   "source": [
    "import os\n",
    "import numpy as np\n",
    "import pandas as pd"
   ]
  },
  {
   "cell_type": "markdown",
   "metadata": {},
   "source": [
    "Определяем папку, где находятся данные"
   ]
  },
  {
   "cell_type": "code",
   "execution_count": 2,
   "metadata": {},
   "outputs": [],
   "source": [
    "data_dir = os.path.join('..', 'data')"
   ]
  },
  {
   "cell_type": "markdown",
   "metadata": {},
   "source": [
    "Загружаем данные"
   ]
  },
  {
   "cell_type": "code",
   "execution_count": 3,
   "metadata": {},
   "outputs": [],
   "source": [
    "users_df = pd.read_csv(os.path.join(data_dir, 'users.tsv'), sep='\\t')\n",
    "history_df = pd.read_csv(os.path.join(data_dir, 'history.tsv'), sep='\\t')\n",
    "validate_df = pd.read_csv(os.path.join(data_dir, 'validate.tsv'), sep='\\t')\n",
    "validate_answers_df = pd.read_csv(os.path.join(data_dir, 'validate_answers.tsv'), sep='\\t')"
   ]
  },
  {
   "cell_type": "markdown",
   "metadata": {},
   "source": [
    "## Работа с \"Историей\""
   ]
  },
  {
   "cell_type": "markdown",
   "metadata": {},
   "source": [
    "Чтобы удобнее было перезапускать частично, периодически будем копировать датафреймы"
   ]
  },
  {
   "cell_type": "code",
   "execution_count": 4,
   "metadata": {},
   "outputs": [],
   "source": [
    "history = history_df.copy()"
   ]
  },
  {
   "cell_type": "markdown",
   "metadata": {},
   "source": [
    "Проходимся по датафрейму и агрегируем необходимые нам данные"
   ]
  },
  {
   "cell_type": "markdown",
   "metadata": {},
   "source": [
    "Можно заменить на вызовы методов датафреймов для необходимых агрегаций, но мне показалось, что так может быть быстрее"
   ]
  },
  {
   "cell_type": "markdown",
   "metadata": {},
   "source": [
    "Основные показатели которые нам нужны - набор выигравших cpm для каждого пользователя и распределение пользователей по площадкам "
   ]
  },
  {
   "cell_type": "code",
   "execution_count": 5,
   "metadata": {},
   "outputs": [],
   "source": [
    "user_cpms = {}\n",
    "publisher_users = {}\n",
    "\n",
    "for index, row in history.iterrows():\n",
    "    user_id = str(int(row['user_id']))\n",
    "    publisher = str(int(row['publisher']))\n",
    "    cpm = row['cpm']\n",
    "\n",
    "    if user_id not in user_cpms:\n",
    "        user_cpms[user_id] = []\n",
    "    user_cpms[user_id].append(cpm)\n",
    "\n",
    "    if publisher not in publisher_users:\n",
    "        publisher_users[publisher] = set()\n",
    "    publisher_users[publisher].add(user_id)"
   ]
  },
  {
   "cell_type": "markdown",
   "metadata": {},
   "source": [
    "## Работа с \"Рекламой\""
   ]
  },
  {
   "cell_type": "markdown",
   "metadata": {},
   "source": [
    "Аналогично копируем датафрейм"
   ]
  },
  {
   "cell_type": "code",
   "execution_count": 6,
   "metadata": {},
   "outputs": [],
   "source": [
    "ads = validate_df.copy()"
   ]
  },
  {
   "cell_type": "markdown",
   "metadata": {},
   "source": [
    "Из анализа мы определили, что есть \"пиковые часы\" 8-22, мне кажется их можно использовать для создания фичей"
   ]
  },
  {
   "cell_type": "code",
   "execution_count": 7,
   "metadata": {},
   "outputs": [],
   "source": [
    "def peak_hours(hour_start, hour_end):\n",
    "    peak_hours_count = 0\n",
    "    for i in range(hour_start, hour_end + 1):\n",
    "        hour_norm = i % 24\n",
    "        if 8 <= hour_norm <= 22:\n",
    "            peak_hours_count += 1\n",
    "    return peak_hours_count"
   ]
  },
  {
   "cell_type": "markdown",
   "metadata": {},
   "source": [
    "Создаем фичи  \n",
    "В принципе тут можно без комментариев понять по названиям"
   ]
  },
  {
   "cell_type": "code",
   "execution_count": 8,
   "metadata": {},
   "outputs": [],
   "source": [
    "ads['publisher_size'] = ads['publishers'].apply(lambda publishers: len(publishers.split(',')))\n",
    "\n",
    "ads['peak_hours'] = ads.apply(lambda row: peak_hours(row['hour_start'], row['hour_end']), axis=1)\n",
    "\n",
    "ads['cpm_x_peak_hours'] = ads['cpm'] * ads['peak_hours']\n",
    "\n",
    "ads['publisher_size_x_peak_hours'] = ads['publisher_size'] * ads['peak_hours']"
   ]
  },
  {
   "cell_type": "markdown",
   "metadata": {},
   "source": [
    "Далее мы начинаем обходить для каждого рекламного объявления пользователей, которые в нем указаны и создаем фичи на их основе\n",
    "\n",
    "Как показала практика это одни из самых значимых фичей"
   ]
  },
  {
   "cell_type": "markdown",
   "metadata": {},
   "source": [
    "`users_power` - это показатель того, сколько человек смотрит рекламы  \n",
    "не придумал более хорошего названия"
   ]
  },
  {
   "cell_type": "code",
   "execution_count": 9,
   "metadata": {},
   "outputs": [],
   "source": [
    "def process_ad_users(user_ids, user_cpms):\n",
    "    users = user_ids.split(',')\n",
    "    counts = []\n",
    "    cpms = []\n",
    "    for user in users:\n",
    "        if user in user_cpms:\n",
    "            counts.append(len(user_cpms[user]))\n",
    "            cpms.extend(user_cpms[user])\n",
    "\n",
    "    return sum(counts), np.mean(counts), np.mean(cpms)"
   ]
  },
  {
   "cell_type": "code",
   "execution_count": 10,
   "metadata": {},
   "outputs": [],
   "source": [
    "ads[['users_power', 'mean_users_power', 'mean_cpm_per_users']] = ads['user_ids'].apply(\n",
    "    lambda user_ids: process_ad_users(user_ids, user_cpms)\n",
    ").apply(pd.Series)"
   ]
  },
  {
   "cell_type": "markdown",
   "metadata": {},
   "source": [
    "Здесь примерно то же самое, только обходим по площадкам"
   ]
  },
  {
   "cell_type": "code",
   "execution_count": 11,
   "metadata": {},
   "outputs": [],
   "source": [
    "def process_ad_publishers(publisher_ids, publisher_users):\n",
    "    publishers = publisher_ids.split(',')\n",
    "    counts = []\n",
    "    for publisher in publishers:\n",
    "        if publisher in publisher_users:\n",
    "            counts.append(len(publisher_users[publisher]))\n",
    "\n",
    "    return sum(counts), np.mean(counts)"
   ]
  },
  {
   "cell_type": "code",
   "execution_count": 12,
   "metadata": {},
   "outputs": [],
   "source": [
    "ads[['active_users_in_publishers', 'mean_active_users_in_publishers']] = ads['publishers'].apply(\n",
    "    lambda publisher_ids: process_ad_publishers(publisher_ids, publisher_users)\n",
    ").apply(pd.Series)"
   ]
  },
  {
   "cell_type": "markdown",
   "metadata": {},
   "source": [
    "## Завершение обработки данных"
   ]
  },
  {
   "cell_type": "markdown",
   "metadata": {},
   "source": [
    "Далее будем приводить всё к виду, в котором будет удобно скармливать данные модели"
   ]
  },
  {
   "cell_type": "code",
   "execution_count": 13,
   "metadata": {},
   "outputs": [],
   "source": [
    "features = ads.copy()"
   ]
  },
  {
   "cell_type": "markdown",
   "metadata": {},
   "source": [
    "Тут удаляем совсем неподходящие (по типу) колонки"
   ]
  },
  {
   "cell_type": "code",
   "execution_count": 14,
   "metadata": {},
   "outputs": [],
   "source": [
    "features = features.drop(columns=['user_ids', 'publishers'])"
   ]
  },
  {
   "cell_type": "markdown",
   "metadata": {},
   "source": [
    "Тут удаляем уже те, которые нам не нравятся (по влиянию на модель)"
   ]
  },
  {
   "cell_type": "code",
   "execution_count": 15,
   "metadata": {},
   "outputs": [],
   "source": [
    "features = features.drop(columns=['hour_start', 'hour_end'])"
   ]
  },
  {
   "cell_type": "markdown",
   "metadata": {},
   "source": [
    "Вот что у нас получилось по составу колонок"
   ]
  },
  {
   "cell_type": "code",
   "execution_count": 16,
   "metadata": {},
   "outputs": [
    {
     "data": {
      "text/plain": [
       "Index(['cpm', 'audience_size', 'publisher_size', 'peak_hours',\n",
       "       'cpm_x_peak_hours', 'publisher_size_x_peak_hours', 'users_power',\n",
       "       'mean_users_power', 'mean_cpm_per_users', 'active_users_in_publishers',\n",
       "       'mean_active_users_in_publishers'],\n",
       "      dtype='object')"
      ]
     },
     "execution_count": 16,
     "metadata": {},
     "output_type": "execute_result"
    }
   ],
   "source": [
    "features.columns"
   ]
  },
  {
   "cell_type": "markdown",
   "metadata": {},
   "source": [
    "Посмотрим на матрицу корреляций"
   ]
  },
  {
   "cell_type": "code",
   "execution_count": 17,
   "metadata": {},
   "outputs": [
    {
     "data": {
      "text/html": [
       "<style type=\"text/css\">\n",
       "#T_ef8d8_row0_col0, #T_ef8d8_row1_col1, #T_ef8d8_row2_col2, #T_ef8d8_row3_col3, #T_ef8d8_row4_col4, #T_ef8d8_row5_col5, #T_ef8d8_row6_col6, #T_ef8d8_row7_col7, #T_ef8d8_row8_col8, #T_ef8d8_row9_col9, #T_ef8d8_row10_col10 {\n",
       "  background-color: #b40426;\n",
       "  color: #f1f1f1;\n",
       "}\n",
       "#T_ef8d8_row0_col1, #T_ef8d8_row1_col3 {\n",
       "  background-color: #4961d2;\n",
       "  color: #f1f1f1;\n",
       "}\n",
       "#T_ef8d8_row0_col2, #T_ef8d8_row1_col2, #T_ef8d8_row3_col7, #T_ef8d8_row7_col10, #T_ef8d8_row8_col2 {\n",
       "  background-color: #9abbff;\n",
       "  color: #000000;\n",
       "}\n",
       "#T_ef8d8_row0_col3, #T_ef8d8_row6_col0 {\n",
       "  background-color: #4257c9;\n",
       "  color: #f1f1f1;\n",
       "}\n",
       "#T_ef8d8_row0_col4 {\n",
       "  background-color: #c5d6f2;\n",
       "  color: #000000;\n",
       "}\n",
       "#T_ef8d8_row0_col5 {\n",
       "  background-color: #5977e3;\n",
       "  color: #f1f1f1;\n",
       "}\n",
       "#T_ef8d8_row0_col6 {\n",
       "  background-color: #7699f6;\n",
       "  color: #f1f1f1;\n",
       "}\n",
       "#T_ef8d8_row0_col7 {\n",
       "  background-color: #8badfd;\n",
       "  color: #000000;\n",
       "}\n",
       "#T_ef8d8_row0_col8, #T_ef8d8_row3_col10 {\n",
       "  background-color: #94b6ff;\n",
       "  color: #000000;\n",
       "}\n",
       "#T_ef8d8_row0_col9, #T_ef8d8_row2_col0, #T_ef8d8_row10_col3 {\n",
       "  background-color: #465ecf;\n",
       "  color: #f1f1f1;\n",
       "}\n",
       "#T_ef8d8_row0_col10, #T_ef8d8_row5_col8 {\n",
       "  background-color: #8fb1fe;\n",
       "  color: #000000;\n",
       "}\n",
       "#T_ef8d8_row1_col0, #T_ef8d8_row10_col4 {\n",
       "  background-color: #3e51c5;\n",
       "  color: #f1f1f1;\n",
       "}\n",
       "#T_ef8d8_row1_col4, #T_ef8d8_row5_col0 {\n",
       "  background-color: #4055c8;\n",
       "  color: #f1f1f1;\n",
       "}\n",
       "#T_ef8d8_row1_col5 {\n",
       "  background-color: #5b7ae5;\n",
       "  color: #f1f1f1;\n",
       "}\n",
       "#T_ef8d8_row1_col6 {\n",
       "  background-color: #f2c9b4;\n",
       "  color: #000000;\n",
       "}\n",
       "#T_ef8d8_row1_col7 {\n",
       "  background-color: #97b8ff;\n",
       "  color: #000000;\n",
       "}\n",
       "#T_ef8d8_row1_col8, #T_ef8d8_row3_col2, #T_ef8d8_row4_col8 {\n",
       "  background-color: #89acfd;\n",
       "  color: #000000;\n",
       "}\n",
       "#T_ef8d8_row1_col9, #T_ef8d8_row9_col4 {\n",
       "  background-color: #3c4ec2;\n",
       "  color: #f1f1f1;\n",
       "}\n",
       "#T_ef8d8_row1_col10, #T_ef8d8_row9_col8 {\n",
       "  background-color: #85a8fc;\n",
       "  color: #f1f1f1;\n",
       "}\n",
       "#T_ef8d8_row2_col1 {\n",
       "  background-color: #506bda;\n",
       "  color: #f1f1f1;\n",
       "}\n",
       "#T_ef8d8_row2_col3, #T_ef8d8_row2_col4, #T_ef8d8_row2_col10, #T_ef8d8_row3_col0, #T_ef8d8_row3_col9, #T_ef8d8_row6_col9, #T_ef8d8_row7_col8, #T_ef8d8_row8_col4, #T_ef8d8_row8_col6, #T_ef8d8_row8_col7, #T_ef8d8_row10_col0, #T_ef8d8_row10_col1, #T_ef8d8_row10_col2, #T_ef8d8_row10_col5 {\n",
       "  background-color: #3b4cc0;\n",
       "  color: #f1f1f1;\n",
       "}\n",
       "#T_ef8d8_row2_col5 {\n",
       "  background-color: #aec9fc;\n",
       "  color: #000000;\n",
       "}\n",
       "#T_ef8d8_row2_col6 {\n",
       "  background-color: #6c8ff1;\n",
       "  color: #f1f1f1;\n",
       "}\n",
       "#T_ef8d8_row2_col7, #T_ef8d8_row4_col6 {\n",
       "  background-color: #7da0f9;\n",
       "  color: #f1f1f1;\n",
       "}\n",
       "#T_ef8d8_row2_col8, #T_ef8d8_row10_col7 {\n",
       "  background-color: #92b4fe;\n",
       "  color: #000000;\n",
       "}\n",
       "#T_ef8d8_row2_col9 {\n",
       "  background-color: #e4d9d2;\n",
       "  color: #000000;\n",
       "}\n",
       "#T_ef8d8_row3_col1, #T_ef8d8_row5_col1 {\n",
       "  background-color: #4c66d6;\n",
       "  color: #f1f1f1;\n",
       "}\n",
       "#T_ef8d8_row3_col4 {\n",
       "  background-color: #f59d7e;\n",
       "  color: #000000;\n",
       "}\n",
       "#T_ef8d8_row3_col5 {\n",
       "  background-color: #da5a49;\n",
       "  color: #f1f1f1;\n",
       "}\n",
       "#T_ef8d8_row3_col6, #T_ef8d8_row10_col8 {\n",
       "  background-color: #7ea1fa;\n",
       "  color: #f1f1f1;\n",
       "}\n",
       "#T_ef8d8_row3_col8, #T_ef8d8_row6_col10 {\n",
       "  background-color: #8caffe;\n",
       "  color: #000000;\n",
       "}\n",
       "#T_ef8d8_row4_col0 {\n",
       "  background-color: #c7d7f0;\n",
       "  color: #000000;\n",
       "}\n",
       "#T_ef8d8_row4_col1 {\n",
       "  background-color: #4f69d9;\n",
       "  color: #f1f1f1;\n",
       "}\n",
       "#T_ef8d8_row4_col2 {\n",
       "  background-color: #93b5fe;\n",
       "  color: #000000;\n",
       "}\n",
       "#T_ef8d8_row4_col3 {\n",
       "  background-color: #f49a7b;\n",
       "  color: #000000;\n",
       "}\n",
       "#T_ef8d8_row4_col5 {\n",
       "  background-color: #f7ac8e;\n",
       "  color: #000000;\n",
       "}\n",
       "#T_ef8d8_row4_col7 {\n",
       "  background-color: #98b9ff;\n",
       "  color: #000000;\n",
       "}\n",
       "#T_ef8d8_row4_col9, #T_ef8d8_row9_col1 {\n",
       "  background-color: #4358cb;\n",
       "  color: #f1f1f1;\n",
       "}\n",
       "#T_ef8d8_row4_col10, #T_ef8d8_row5_col7 {\n",
       "  background-color: #96b7ff;\n",
       "  color: #000000;\n",
       "}\n",
       "#T_ef8d8_row5_col2 {\n",
       "  background-color: #d5dbe5;\n",
       "  color: #000000;\n",
       "}\n",
       "#T_ef8d8_row5_col3 {\n",
       "  background-color: #dc5d4a;\n",
       "  color: #f1f1f1;\n",
       "}\n",
       "#T_ef8d8_row5_col4 {\n",
       "  background-color: #f7b79b;\n",
       "  color: #000000;\n",
       "}\n",
       "#T_ef8d8_row5_col6 {\n",
       "  background-color: #7b9ff9;\n",
       "  color: #f1f1f1;\n",
       "}\n",
       "#T_ef8d8_row5_col9 {\n",
       "  background-color: #6e90f2;\n",
       "  color: #f1f1f1;\n",
       "}\n",
       "#T_ef8d8_row5_col10 {\n",
       "  background-color: #779af7;\n",
       "  color: #f1f1f1;\n",
       "}\n",
       "#T_ef8d8_row6_col1 {\n",
       "  background-color: #e8d6cc;\n",
       "  color: #000000;\n",
       "}\n",
       "#T_ef8d8_row6_col2 {\n",
       "  background-color: #8db0fe;\n",
       "  color: #000000;\n",
       "}\n",
       "#T_ef8d8_row6_col3 {\n",
       "  background-color: #516ddb;\n",
       "  color: #f1f1f1;\n",
       "}\n",
       "#T_ef8d8_row6_col4 {\n",
       "  background-color: #455cce;\n",
       "  color: #f1f1f1;\n",
       "}\n",
       "#T_ef8d8_row6_col5 {\n",
       "  background-color: #6180e9;\n",
       "  color: #f1f1f1;\n",
       "}\n",
       "#T_ef8d8_row6_col7 {\n",
       "  background-color: #e8765c;\n",
       "  color: #f1f1f1;\n",
       "}\n",
       "#T_ef8d8_row6_col8 {\n",
       "  background-color: #536edd;\n",
       "  color: #f1f1f1;\n",
       "}\n",
       "#T_ef8d8_row7_col0, #T_ef8d8_row7_col9 {\n",
       "  background-color: #3f53c6;\n",
       "  color: #f1f1f1;\n",
       "}\n",
       "#T_ef8d8_row7_col1 {\n",
       "  background-color: #5673e0;\n",
       "  color: #f1f1f1;\n",
       "}\n",
       "#T_ef8d8_row7_col2, #T_ef8d8_row8_col10 {\n",
       "  background-color: #86a9fc;\n",
       "  color: #f1f1f1;\n",
       "}\n",
       "#T_ef8d8_row7_col3 {\n",
       "  background-color: #5875e1;\n",
       "  color: #f1f1f1;\n",
       "}\n",
       "#T_ef8d8_row7_col4 {\n",
       "  background-color: #4b64d5;\n",
       "  color: #f1f1f1;\n",
       "}\n",
       "#T_ef8d8_row7_col5 {\n",
       "  background-color: #6485ec;\n",
       "  color: #f1f1f1;\n",
       "}\n",
       "#T_ef8d8_row7_col6 {\n",
       "  background-color: #ea7b60;\n",
       "  color: #f1f1f1;\n",
       "}\n",
       "#T_ef8d8_row8_col0 {\n",
       "  background-color: #4a63d3;\n",
       "  color: #f1f1f1;\n",
       "}\n",
       "#T_ef8d8_row8_col1, #T_ef8d8_row8_col3 {\n",
       "  background-color: #485fd1;\n",
       "  color: #f1f1f1;\n",
       "}\n",
       "#T_ef8d8_row8_col5 {\n",
       "  background-color: #5d7ce6;\n",
       "  color: #f1f1f1;\n",
       "}\n",
       "#T_ef8d8_row8_col9, #T_ef8d8_row9_col3 {\n",
       "  background-color: #3d50c3;\n",
       "  color: #f1f1f1;\n",
       "}\n",
       "#T_ef8d8_row9_col0 {\n",
       "  background-color: #445acc;\n",
       "  color: #f1f1f1;\n",
       "}\n",
       "#T_ef8d8_row9_col2 {\n",
       "  background-color: #f6bea4;\n",
       "  color: #000000;\n",
       "}\n",
       "#T_ef8d8_row9_col5 {\n",
       "  background-color: #82a6fb;\n",
       "  color: #f1f1f1;\n",
       "}\n",
       "#T_ef8d8_row9_col6, #T_ef8d8_row10_col6 {\n",
       "  background-color: #6b8df0;\n",
       "  color: #f1f1f1;\n",
       "}\n",
       "#T_ef8d8_row9_col7 {\n",
       "  background-color: #88abfd;\n",
       "  color: #000000;\n",
       "}\n",
       "#T_ef8d8_row9_col10 {\n",
       "  background-color: #f5c4ac;\n",
       "  color: #000000;\n",
       "}\n",
       "#T_ef8d8_row10_col9 {\n",
       "  background-color: #dedcdb;\n",
       "  color: #000000;\n",
       "}\n",
       "</style>\n",
       "<table id=\"T_ef8d8\">\n",
       "  <thead>\n",
       "    <tr>\n",
       "      <th class=\"blank level0\" >&nbsp;</th>\n",
       "      <th id=\"T_ef8d8_level0_col0\" class=\"col_heading level0 col0\" >cpm</th>\n",
       "      <th id=\"T_ef8d8_level0_col1\" class=\"col_heading level0 col1\" >audience_size</th>\n",
       "      <th id=\"T_ef8d8_level0_col2\" class=\"col_heading level0 col2\" >publisher_size</th>\n",
       "      <th id=\"T_ef8d8_level0_col3\" class=\"col_heading level0 col3\" >peak_hours</th>\n",
       "      <th id=\"T_ef8d8_level0_col4\" class=\"col_heading level0 col4\" >cpm_x_peak_hours</th>\n",
       "      <th id=\"T_ef8d8_level0_col5\" class=\"col_heading level0 col5\" >publisher_size_x_peak_hours</th>\n",
       "      <th id=\"T_ef8d8_level0_col6\" class=\"col_heading level0 col6\" >users_power</th>\n",
       "      <th id=\"T_ef8d8_level0_col7\" class=\"col_heading level0 col7\" >mean_users_power</th>\n",
       "      <th id=\"T_ef8d8_level0_col8\" class=\"col_heading level0 col8\" >mean_cpm_per_users</th>\n",
       "      <th id=\"T_ef8d8_level0_col9\" class=\"col_heading level0 col9\" >active_users_in_publishers</th>\n",
       "      <th id=\"T_ef8d8_level0_col10\" class=\"col_heading level0 col10\" >mean_active_users_in_publishers</th>\n",
       "    </tr>\n",
       "  </thead>\n",
       "  <tbody>\n",
       "    <tr>\n",
       "      <th id=\"T_ef8d8_level0_row0\" class=\"row_heading level0 row0\" >cpm</th>\n",
       "      <td id=\"T_ef8d8_row0_col0\" class=\"data row0 col0\" >1.000000</td>\n",
       "      <td id=\"T_ef8d8_row0_col1\" class=\"data row0 col1\" >-0.000887</td>\n",
       "      <td id=\"T_ef8d8_row0_col2\" class=\"data row0 col2\" >0.026065</td>\n",
       "      <td id=\"T_ef8d8_row0_col3\" class=\"data row0 col3\" >-0.012519</td>\n",
       "      <td id=\"T_ef8d8_row0_col4\" class=\"data row0 col4\" >0.414271</td>\n",
       "      <td id=\"T_ef8d8_row0_col5\" class=\"data row0 col5\" >0.008217</td>\n",
       "      <td id=\"T_ef8d8_row0_col6\" class=\"data row0 col6\" >0.010567</td>\n",
       "      <td id=\"T_ef8d8_row0_col7\" class=\"data row0 col7\" >0.002696</td>\n",
       "      <td id=\"T_ef8d8_row0_col8\" class=\"data row0 col8\" >0.037102</td>\n",
       "      <td id=\"T_ef8d8_row0_col9\" class=\"data row0 col9\" >0.017504</td>\n",
       "      <td id=\"T_ef8d8_row0_col10\" class=\"data row0 col10\" >-0.015117</td>\n",
       "    </tr>\n",
       "    <tr>\n",
       "      <th id=\"T_ef8d8_level0_row1\" class=\"row_heading level0 row1\" >audience_size</th>\n",
       "      <td id=\"T_ef8d8_row1_col0\" class=\"data row1 col0\" >-0.000887</td>\n",
       "      <td id=\"T_ef8d8_row1_col1\" class=\"data row1 col1\" >1.000000</td>\n",
       "      <td id=\"T_ef8d8_row1_col2\" class=\"data row1 col2\" >0.025797</td>\n",
       "      <td id=\"T_ef8d8_row1_col3\" class=\"data row1 col3\" >0.014840</td>\n",
       "      <td id=\"T_ef8d8_row1_col4\" class=\"data row1 col4\" >0.022473</td>\n",
       "      <td id=\"T_ef8d8_row1_col5\" class=\"data row1 col5\" >0.014297</td>\n",
       "      <td id=\"T_ef8d8_row1_col6\" class=\"data row1 col6\" >0.521994</td>\n",
       "      <td id=\"T_ef8d8_row1_col7\" class=\"data row1 col7\" >0.048228</td>\n",
       "      <td id=\"T_ef8d8_row1_col8\" class=\"data row1 col8\" >-0.002968</td>\n",
       "      <td id=\"T_ef8d8_row1_col9\" class=\"data row1 col9\" >-0.020482</td>\n",
       "      <td id=\"T_ef8d8_row1_col10\" class=\"data row1 col10\" >-0.050152</td>\n",
       "    </tr>\n",
       "    <tr>\n",
       "      <th id=\"T_ef8d8_level0_row2\" class=\"row_heading level0 row2\" >publisher_size</th>\n",
       "      <td id=\"T_ef8d8_row2_col0\" class=\"data row2 col0\" >0.026065</td>\n",
       "      <td id=\"T_ef8d8_row2_col1\" class=\"data row2 col1\" >0.025797</td>\n",
       "      <td id=\"T_ef8d8_row2_col2\" class=\"data row2 col2\" >1.000000</td>\n",
       "      <td id=\"T_ef8d8_row2_col3\" class=\"data row2 col3\" >-0.037479</td>\n",
       "      <td id=\"T_ef8d8_row2_col4\" class=\"data row2 col4\" >-0.000732</td>\n",
       "      <td id=\"T_ef8d8_row2_col5\" class=\"data row2 col5\" >0.278517</td>\n",
       "      <td id=\"T_ef8d8_row2_col6\" class=\"data row2 col6\" >-0.020791</td>\n",
       "      <td id=\"T_ef8d8_row2_col7\" class=\"data row2 col7\" >-0.046162</td>\n",
       "      <td id=\"T_ef8d8_row2_col8\" class=\"data row2 col8\" >0.028412</td>\n",
       "      <td id=\"T_ef8d8_row2_col9\" class=\"data row2 col9\" >0.517861</td>\n",
       "      <td id=\"T_ef8d8_row2_col10\" class=\"data row2 col10\" >-0.364333</td>\n",
       "    </tr>\n",
       "    <tr>\n",
       "      <th id=\"T_ef8d8_level0_row3\" class=\"row_heading level0 row3\" >peak_hours</th>\n",
       "      <td id=\"T_ef8d8_row3_col0\" class=\"data row3 col0\" >-0.012519</td>\n",
       "      <td id=\"T_ef8d8_row3_col1\" class=\"data row3 col1\" >0.014840</td>\n",
       "      <td id=\"T_ef8d8_row3_col2\" class=\"data row3 col2\" >-0.037479</td>\n",
       "      <td id=\"T_ef8d8_row3_col3\" class=\"data row3 col3\" >1.000000</td>\n",
       "      <td id=\"T_ef8d8_row3_col4\" class=\"data row3 col4\" >0.738799</td>\n",
       "      <td id=\"T_ef8d8_row3_col5\" class=\"data row3 col5\" >0.874611</td>\n",
       "      <td id=\"T_ef8d8_row3_col6\" class=\"data row3 col6\" >0.039895</td>\n",
       "      <td id=\"T_ef8d8_row3_col7\" class=\"data row3 col7\" >0.060199</td>\n",
       "      <td id=\"T_ef8d8_row3_col8\" class=\"data row3 col8\" >0.008698</td>\n",
       "      <td id=\"T_ef8d8_row3_col9\" class=\"data row3 col9\" >-0.025915</td>\n",
       "      <td id=\"T_ef8d8_row3_col10\" class=\"data row3 col10\" >0.005092</td>\n",
       "    </tr>\n",
       "    <tr>\n",
       "      <th id=\"T_ef8d8_level0_row4\" class=\"row_heading level0 row4\" >cpm_x_peak_hours</th>\n",
       "      <td id=\"T_ef8d8_row4_col0\" class=\"data row4 col0\" >0.414271</td>\n",
       "      <td id=\"T_ef8d8_row4_col1\" class=\"data row4 col1\" >0.022473</td>\n",
       "      <td id=\"T_ef8d8_row4_col2\" class=\"data row4 col2\" >-0.000732</td>\n",
       "      <td id=\"T_ef8d8_row4_col3\" class=\"data row4 col3\" >0.738799</td>\n",
       "      <td id=\"T_ef8d8_row4_col4\" class=\"data row4 col4\" >1.000000</td>\n",
       "      <td id=\"T_ef8d8_row4_col5\" class=\"data row4 col5\" >0.668658</td>\n",
       "      <td id=\"T_ef8d8_row4_col6\" class=\"data row4 col6\" >0.035554</td>\n",
       "      <td id=\"T_ef8d8_row4_col7\" class=\"data row4 col7\" >0.057024</td>\n",
       "      <td id=\"T_ef8d8_row4_col8\" class=\"data row4 col8\" >-0.000511</td>\n",
       "      <td id=\"T_ef8d8_row4_col9\" class=\"data row4 col9\" >0.003795</td>\n",
       "      <td id=\"T_ef8d8_row4_col10\" class=\"data row4 col10\" >0.012754</td>\n",
       "    </tr>\n",
       "    <tr>\n",
       "      <th id=\"T_ef8d8_level0_row5\" class=\"row_heading level0 row5\" >publisher_size_x_peak_hours</th>\n",
       "      <td id=\"T_ef8d8_row5_col0\" class=\"data row5 col0\" >0.008217</td>\n",
       "      <td id=\"T_ef8d8_row5_col1\" class=\"data row5 col1\" >0.014297</td>\n",
       "      <td id=\"T_ef8d8_row5_col2\" class=\"data row5 col2\" >0.278517</td>\n",
       "      <td id=\"T_ef8d8_row5_col3\" class=\"data row5 col3\" >0.874611</td>\n",
       "      <td id=\"T_ef8d8_row5_col4\" class=\"data row5 col4\" >0.668658</td>\n",
       "      <td id=\"T_ef8d8_row5_col5\" class=\"data row5 col5\" >1.000000</td>\n",
       "      <td id=\"T_ef8d8_row5_col6\" class=\"data row5 col6\" >0.031866</td>\n",
       "      <td id=\"T_ef8d8_row5_col7\" class=\"data row5 col7\" >0.046068</td>\n",
       "      <td id=\"T_ef8d8_row5_col8\" class=\"data row5 col8\" >0.019122</td>\n",
       "      <td id=\"T_ef8d8_row5_col9\" class=\"data row5 col9\" >0.138881</td>\n",
       "      <td id=\"T_ef8d8_row5_col10\" class=\"data row5 col10\" >-0.103672</td>\n",
       "    </tr>\n",
       "    <tr>\n",
       "      <th id=\"T_ef8d8_level0_row6\" class=\"row_heading level0 row6\" >users_power</th>\n",
       "      <td id=\"T_ef8d8_row6_col0\" class=\"data row6 col0\" >0.010567</td>\n",
       "      <td id=\"T_ef8d8_row6_col1\" class=\"data row6 col1\" >0.521994</td>\n",
       "      <td id=\"T_ef8d8_row6_col2\" class=\"data row6 col2\" >-0.020791</td>\n",
       "      <td id=\"T_ef8d8_row6_col3\" class=\"data row6 col3\" >0.039895</td>\n",
       "      <td id=\"T_ef8d8_row6_col4\" class=\"data row6 col4\" >0.035554</td>\n",
       "      <td id=\"T_ef8d8_row6_col5\" class=\"data row6 col5\" >0.031866</td>\n",
       "      <td id=\"T_ef8d8_row6_col6\" class=\"data row6 col6\" >1.000000</td>\n",
       "      <td id=\"T_ef8d8_row6_col7\" class=\"data row6 col7\" >0.778316</td>\n",
       "      <td id=\"T_ef8d8_row6_col8\" class=\"data row6 col8\" >-0.212048</td>\n",
       "      <td id=\"T_ef8d8_row6_col9\" class=\"data row6 col9\" >-0.023681</td>\n",
       "      <td id=\"T_ef8d8_row6_col10\" class=\"data row6 col10\" >-0.026245</td>\n",
       "    </tr>\n",
       "    <tr>\n",
       "      <th id=\"T_ef8d8_level0_row7\" class=\"row_heading level0 row7\" >mean_users_power</th>\n",
       "      <td id=\"T_ef8d8_row7_col0\" class=\"data row7 col0\" >0.002696</td>\n",
       "      <td id=\"T_ef8d8_row7_col1\" class=\"data row7 col1\" >0.048228</td>\n",
       "      <td id=\"T_ef8d8_row7_col2\" class=\"data row7 col2\" >-0.046162</td>\n",
       "      <td id=\"T_ef8d8_row7_col3\" class=\"data row7 col3\" >0.060199</td>\n",
       "      <td id=\"T_ef8d8_row7_col4\" class=\"data row7 col4\" >0.057024</td>\n",
       "      <td id=\"T_ef8d8_row7_col5\" class=\"data row7 col5\" >0.046068</td>\n",
       "      <td id=\"T_ef8d8_row7_col6\" class=\"data row7 col6\" >0.778316</td>\n",
       "      <td id=\"T_ef8d8_row7_col7\" class=\"data row7 col7\" >1.000000</td>\n",
       "      <td id=\"T_ef8d8_row7_col8\" class=\"data row7 col8\" >-0.318550</td>\n",
       "      <td id=\"T_ef8d8_row7_col9\" class=\"data row7 col9\" >-0.008926</td>\n",
       "      <td id=\"T_ef8d8_row7_col10\" class=\"data row7 col10\" >0.026776</td>\n",
       "    </tr>\n",
       "    <tr>\n",
       "      <th id=\"T_ef8d8_level0_row8\" class=\"row_heading level0 row8\" >mean_cpm_per_users</th>\n",
       "      <td id=\"T_ef8d8_row8_col0\" class=\"data row8 col0\" >0.037102</td>\n",
       "      <td id=\"T_ef8d8_row8_col1\" class=\"data row8 col1\" >-0.002968</td>\n",
       "      <td id=\"T_ef8d8_row8_col2\" class=\"data row8 col2\" >0.028412</td>\n",
       "      <td id=\"T_ef8d8_row8_col3\" class=\"data row8 col3\" >0.008698</td>\n",
       "      <td id=\"T_ef8d8_row8_col4\" class=\"data row8 col4\" >-0.000511</td>\n",
       "      <td id=\"T_ef8d8_row8_col5\" class=\"data row8 col5\" >0.019122</td>\n",
       "      <td id=\"T_ef8d8_row8_col6\" class=\"data row8 col6\" >-0.212048</td>\n",
       "      <td id=\"T_ef8d8_row8_col7\" class=\"data row8 col7\" >-0.318550</td>\n",
       "      <td id=\"T_ef8d8_row8_col8\" class=\"data row8 col8\" >1.000000</td>\n",
       "      <td id=\"T_ef8d8_row8_col9\" class=\"data row8 col9\" >-0.016837</td>\n",
       "      <td id=\"T_ef8d8_row8_col10\" class=\"data row8 col10\" >-0.045344</td>\n",
       "    </tr>\n",
       "    <tr>\n",
       "      <th id=\"T_ef8d8_level0_row9\" class=\"row_heading level0 row9\" >active_users_in_publishers</th>\n",
       "      <td id=\"T_ef8d8_row9_col0\" class=\"data row9 col0\" >0.017504</td>\n",
       "      <td id=\"T_ef8d8_row9_col1\" class=\"data row9 col1\" >-0.020482</td>\n",
       "      <td id=\"T_ef8d8_row9_col2\" class=\"data row9 col2\" >0.517861</td>\n",
       "      <td id=\"T_ef8d8_row9_col3\" class=\"data row9 col3\" >-0.025915</td>\n",
       "      <td id=\"T_ef8d8_row9_col4\" class=\"data row9 col4\" >0.003795</td>\n",
       "      <td id=\"T_ef8d8_row9_col5\" class=\"data row9 col5\" >0.138881</td>\n",
       "      <td id=\"T_ef8d8_row9_col6\" class=\"data row9 col6\" >-0.023681</td>\n",
       "      <td id=\"T_ef8d8_row9_col7\" class=\"data row9 col7\" >-0.008926</td>\n",
       "      <td id=\"T_ef8d8_row9_col8\" class=\"data row9 col8\" >-0.016837</td>\n",
       "      <td id=\"T_ef8d8_row9_col9\" class=\"data row9 col9\" >1.000000</td>\n",
       "      <td id=\"T_ef8d8_row9_col10\" class=\"data row9 col10\" >0.493366</td>\n",
       "    </tr>\n",
       "    <tr>\n",
       "      <th id=\"T_ef8d8_level0_row10\" class=\"row_heading level0 row10\" >mean_active_users_in_publishers</th>\n",
       "      <td id=\"T_ef8d8_row10_col0\" class=\"data row10 col0\" >-0.015117</td>\n",
       "      <td id=\"T_ef8d8_row10_col1\" class=\"data row10 col1\" >-0.050152</td>\n",
       "      <td id=\"T_ef8d8_row10_col2\" class=\"data row10 col2\" >-0.364333</td>\n",
       "      <td id=\"T_ef8d8_row10_col3\" class=\"data row10 col3\" >0.005092</td>\n",
       "      <td id=\"T_ef8d8_row10_col4\" class=\"data row10 col4\" >0.012754</td>\n",
       "      <td id=\"T_ef8d8_row10_col5\" class=\"data row10 col5\" >-0.103672</td>\n",
       "      <td id=\"T_ef8d8_row10_col6\" class=\"data row10 col6\" >-0.026245</td>\n",
       "      <td id=\"T_ef8d8_row10_col7\" class=\"data row10 col7\" >0.026776</td>\n",
       "      <td id=\"T_ef8d8_row10_col8\" class=\"data row10 col8\" >-0.045344</td>\n",
       "      <td id=\"T_ef8d8_row10_col9\" class=\"data row10 col9\" >0.493366</td>\n",
       "      <td id=\"T_ef8d8_row10_col10\" class=\"data row10 col10\" >1.000000</td>\n",
       "    </tr>\n",
       "  </tbody>\n",
       "</table>\n"
      ],
      "text/plain": [
       "<pandas.io.formats.style.Styler at 0x192329a0d90>"
      ]
     },
     "execution_count": 17,
     "metadata": {},
     "output_type": "execute_result"
    }
   ],
   "source": [
    "corr = features.corr()\n",
    "corr.style.background_gradient(cmap='coolwarm')"
   ]
  },
  {
   "cell_type": "markdown",
   "metadata": {},
   "source": [
    "Видно, что некоторые признаки сильно коррелируют, но я не стал их убирать пока, потому что они всё равно полезны для метрики"
   ]
  },
  {
   "cell_type": "code",
   "execution_count": 18,
   "metadata": {},
   "outputs": [],
   "source": [
    "target = validate_answers_df.copy()"
   ]
  },
  {
   "cell_type": "markdown",
   "metadata": {},
   "source": [
    "Делим на train и test"
   ]
  },
  {
   "cell_type": "code",
   "execution_count": 19,
   "metadata": {},
   "outputs": [],
   "source": [
    "from sklearn.model_selection import train_test_split\n",
    "\n",
    "features_train, features_test, target_train, target_test = train_test_split(features, target, test_size=0.33, random_state=42)"
   ]
  },
  {
   "cell_type": "markdown",
   "metadata": {},
   "source": [
    "## Работа с моделью"
   ]
  },
  {
   "cell_type": "markdown",
   "metadata": {},
   "source": [
    "Используем CatBoostRegressor, потому что модель дает неплохой результат сходу (лучше чем у xgboost и GradientBoostingRegressor)"
   ]
  },
  {
   "cell_type": "code",
   "execution_count": 20,
   "metadata": {},
   "outputs": [
    {
     "data": {
      "text/plain": [
       "<catboost.core.CatBoostRegressor at 0x19233637f90>"
      ]
     },
     "execution_count": 20,
     "metadata": {},
     "output_type": "execute_result"
    }
   ],
   "source": [
    "from catboost import CatBoostRegressor\n",
    "\n",
    "X_train1, X_test1, y_train1, y_test1 = features_train, features_test, target_train['at_least_one'], target_test['at_least_one']\n",
    "\n",
    "model1 = CatBoostRegressor(silent=True)\n",
    "model1.fit(X_train1, y_train1)"
   ]
  },
  {
   "cell_type": "markdown",
   "metadata": {},
   "source": [
    "В будущем конечно надо оптимизировать гиперпараметры"
   ]
  },
  {
   "cell_type": "markdown",
   "metadata": {},
   "source": [
    "Посмотрим на значимость фичей  \n",
    "Для этого будем использовать библиотеку SHAP"
   ]
  },
  {
   "cell_type": "code",
   "execution_count": 21,
   "metadata": {},
   "outputs": [],
   "source": [
    "import shap"
   ]
  },
  {
   "cell_type": "markdown",
   "metadata": {},
   "source": [
    "Инициализируем библиотеку"
   ]
  },
  {
   "cell_type": "code",
   "execution_count": 22,
   "metadata": {},
   "outputs": [],
   "source": [
    "explainer = shap.TreeExplainer(model1)\n",
    "shap_values = explainer(X_train1)"
   ]
  },
  {
   "cell_type": "markdown",
   "metadata": {},
   "source": [
    "Выведем фичи и их значимость"
   ]
  },
  {
   "cell_type": "code",
   "execution_count": 23,
   "metadata": {},
   "outputs": [
    {
     "data": {
      "image/png": "[encoded data removed]",
      "text/plain": [
       "<Figure size 800x650 with 1 Axes>"
      ]
     },
     "metadata": {},
     "output_type": "display_data"
    }
   ],
   "source": [
    "shap.plots.bar(shap_values)"
   ]
  },
  {
   "cell_type": "markdown",
   "metadata": {},
   "source": [
    "Также выведем heatmap фич, чтобы увидеть как фичи описывают данные в совокупности (порядок семплов определен библиотекой на основе объясняемой схожести, т.е. библиотка применяет иерархическую кластеризацию для того, чтобы наиболее \"объясняемые\" с помощью наших фич были рядом друг с другом)"
   ]
  },
  {
   "cell_type": "code",
   "execution_count": 24,
   "metadata": {},
   "outputs": [
    {
     "data": {
      "image/png": "[encoded data removed]",
      "text/plain": [
       "<Figure size 800x750 with 2 Axes>"
      ]
     },
     "metadata": {},
     "output_type": "display_data"
    }
   ],
   "source": [
    "shap.plots.heatmap(shap_values);"
   ]
  },
  {
   "cell_type": "markdown",
   "metadata": {},
   "source": [
    "Можно убрать малозначимые и добавить каких-нибудь еще интересных\n",
    "\n",
    "Я пробовал перемножать и делить базовые фичи (cpm, duration, sizes), но там ничего супер полезного не было"
   ]
  },
  {
   "cell_type": "markdown",
   "metadata": {},
   "source": [
    "Функцию написал для того, чтобы в будущем легче было сравнивать модели, но пока не пригодилось"
   ]
  },
  {
   "cell_type": "code",
   "execution_count": 25,
   "metadata": {},
   "outputs": [],
   "source": [
    "from sklearn.metrics import mean_absolute_error, mean_squared_error, r2_score \n",
    "\n",
    "def print_metrics(y_true, y_pred):\n",
    "    mae = mean_absolute_error(y_true, y_pred)\n",
    "    mse = mean_squared_error(y_true, y_pred)\n",
    "    rmse = np.sqrt(mse)\n",
    "    r2 = r2_score(y_true, y_pred)\n",
    "\n",
    "    print(f\"MAE: {mae:.4f}\")\n",
    "    print(f\"MSE: {mse:.4f}\")\n",
    "    print(f\"RMSE: {rmse:.4f}\")\n",
    "    print(f\"R2: {r2:.4f}\")"
   ]
  },
  {
   "cell_type": "markdown",
   "metadata": {},
   "source": [
    "Посчитаем метрику на test"
   ]
  },
  {
   "cell_type": "code",
   "execution_count": 26,
   "metadata": {},
   "outputs": [
    {
     "name": "stdout",
     "output_type": "stream",
     "text": [
      "MAE: 0.0193\n",
      "MSE: 0.0010\n",
      "RMSE: 0.0309\n",
      "R2: 0.9509\n"
     ]
    }
   ],
   "source": [
    "y_true1 = np.array(y_test1)\n",
    "y_pred1 = model1.predict(X_test1)\n",
    "\n",
    "print_metrics(y_true1, y_pred1)"
   ]
  },
  {
   "cell_type": "markdown",
   "metadata": {},
   "source": [
    "Неплохо  \n",
    "У меня получалось лучше, но там было в 2 раза больше малополезных фичей, а результат не сильно отличался  "
   ]
  },
  {
   "cell_type": "markdown",
   "metadata": {},
   "source": [
    "График распределения значений"
   ]
  },
  {
   "cell_type": "code",
   "execution_count": 27,
   "metadata": {},
   "outputs": [
    {
     "data": {
      "image/png": "[encoded data removed]",
      "text/plain": [
       "<Figure size 640x480 with 1 Axes>"
      ]
     },
     "metadata": {},
     "output_type": "display_data"
    }
   ],
   "source": [
    "import seaborn as sns\n",
    "import matplotlib.pyplot as plt\n",
    "\n",
    "result1 = pd.DataFrame()\n",
    "result1['y_test'] = y_test1\n",
    "result1['y_pred'] = y_pred1\n",
    "\n",
    "sns.regplot(data=result1, x='y_test', y='y_pred', scatter_kws={\"s\": 20, \"alpha\": 0.5})\n",
    "\n",
    "x = np.linspace(0, result1.max(), 100)\n",
    "plt.plot(x, x, color=\"red\");"
   ]
  },
  {
   "cell_type": "markdown",
   "metadata": {},
   "source": [
    "Видно, что есть некоторая ошибка (расхождение между линиями), но в целом получается неплохо"
   ]
  },
  {
   "cell_type": "markdown",
   "metadata": {},
   "source": [
    "Но это пока только один таргет, а нам надо еще 2"
   ]
  },
  {
   "cell_type": "markdown",
   "metadata": {},
   "source": [
    "Во время анализа данных была выявлена сильная корреляция между таргетами  \n",
    "Воспользуемся этим"
   ]
  },
  {
   "cell_type": "markdown",
   "metadata": {},
   "source": [
    "Из всех опробованных моделей (GradientBoostingRegressor, CatBoostRegressor, LinearRegression) без оптимизации гиперпараметров лучше с задачей справляется GradientBoostingRegressor"
   ]
  },
  {
   "cell_type": "code",
   "execution_count": 28,
   "metadata": {},
   "outputs": [],
   "source": [
    "from sklearn.ensemble import GradientBoostingRegressor"
   ]
  },
  {
   "cell_type": "markdown",
   "metadata": {},
   "source": [
    "Попробуем обучить (пока независимо) модели для регрессии двух оставшихся таргетов"
   ]
  },
  {
   "cell_type": "code",
   "execution_count": 29,
   "metadata": {},
   "outputs": [
    {
     "name": "stdout",
     "output_type": "stream",
     "text": [
      "MAE: 0.0144\n",
      "MSE: 0.0007\n",
      "RMSE: 0.0267\n",
      "R2: 0.9394\n"
     ]
    }
   ],
   "source": [
    "X_train2, X_test2, y_train2, y_test2 = target_train[['at_least_one']], target_test[['at_least_one']], target_train['at_least_two'], target_test['at_least_two']\n",
    "\n",
    "model2 = GradientBoostingRegressor()\n",
    "model2.fit(X_train2, y_train2)\n",
    "\n",
    "y_pred2 = model2.predict(X_test2)\n",
    "\n",
    "print_metrics(y_test2, y_pred2)"
   ]
  },
  {
   "cell_type": "code",
   "execution_count": 30,
   "metadata": {},
   "outputs": [
    {
     "name": "stdout",
     "output_type": "stream",
     "text": [
      "MAE: 0.0066\n",
      "MSE: 0.0002\n",
      "RMSE: 0.0132\n",
      "R2: 0.9779\n"
     ]
    }
   ],
   "source": [
    "X_train3, X_test3, y_train3, y_test3 = target_train[['at_least_two']], target_test[['at_least_two']], target_train['at_least_three'], target_test['at_least_three']\n",
    "\n",
    "model3 = GradientBoostingRegressor()\n",
    "model3.fit(X_train3, y_train3)\n",
    "\n",
    "y_pred3 = model3.predict(X_test3)\n",
    "\n",
    "print_metrics(y_test3, y_pred3)"
   ]
  },
  {
   "cell_type": "markdown",
   "metadata": {},
   "source": [
    "В целом получаются неплохие метрики"
   ]
  },
  {
   "cell_type": "markdown",
   "metadata": {},
   "source": [
    "Теперь попробуем объединить модели в одну и посмотрим результат сразу на предложенной метрике"
   ]
  },
  {
   "cell_type": "code",
   "execution_count": 31,
   "metadata": {},
   "outputs": [],
   "source": [
    "from metrics import get_smoothed_mean_log_accuracy_ratio"
   ]
  },
  {
   "cell_type": "markdown",
   "metadata": {},
   "source": [
    "В baseline (все нули) метрика равна"
   ]
  },
  {
   "cell_type": "code",
   "execution_count": 32,
   "metadata": {},
   "outputs": [
    {
     "data": {
      "text/plain": [
       "397.79"
      ]
     },
     "execution_count": 32,
     "metadata": {},
     "output_type": "execute_result"
    }
   ],
   "source": [
    "baseline = pd.read_csv(os.path.join(data_dir, 'baseline.tsv'), sep='\\t')\n",
    "baseline_train, baseline_test = train_test_split(baseline, test_size=0.33)\n",
    "get_smoothed_mean_log_accuracy_ratio(target_test, baseline_test)"
   ]
  },
  {
   "cell_type": "markdown",
   "metadata": {},
   "source": [
    "Нам надо сделать лучше)"
   ]
  },
  {
   "cell_type": "markdown",
   "metadata": {},
   "source": [
    "У модели есть параметр, который отвечает за то будет ли каждая \"следующая\" суб-модель обучаться на результатах прошлой модели или будем обучать их независимо"
   ]
  },
  {
   "cell_type": "code",
   "execution_count": 33,
   "metadata": {},
   "outputs": [],
   "source": [
    "import numpy as np\n",
    "import pandas as pd\n",
    "from catboost import CatBoostRegressor\n",
    "from sklearn.base import BaseEstimator, RegressorMixin\n",
    "from sklearn.ensemble import GradientBoostingRegressor\n",
    "\n",
    "class VKAdsRegressor(BaseEstimator, RegressorMixin):\n",
    "    def __init__(self, train_independently: bool = False):\n",
    "        self.train_independently = train_independently\n",
    "        self.model1 = CatBoostRegressor(silent=True)\n",
    "        self.model2 = GradientBoostingRegressor()\n",
    "        self.model3 = GradientBoostingRegressor()\n",
    "\n",
    "    def _wrap_to_df(self, name, data):\n",
    "        df = pd.DataFrame()\n",
    "        df[name] = data\n",
    "        return df\n",
    "\n",
    "    def fit(self, X, y):\n",
    "        self.model1.fit(X, y['at_least_one'])\n",
    "        \n",
    "        if self.train_independently:\n",
    "            self.model2.fit(y[['at_least_one']].to_numpy(), y['at_least_two'])\n",
    "            self.model3.fit(y[['at_least_two']].to_numpy(), y['at_least_three'])\n",
    "        else:\n",
    "            output1 = np.clip(self.model1.predict(X), a_min=0, a_max=1).reshape(-1, 1)\n",
    "            self.model2.fit(output1, y['at_least_two'])\n",
    "\n",
    "            output2 = self.model2.predict(output1).reshape(-1, 1)\n",
    "            self.model3.fit(output2, y['at_least_three'])\n",
    "\n",
    "        return self\n",
    "\n",
    "    def predict(self, X):\n",
    "        output1 = np.clip(self.model1.predict(X), a_min=0, a_max=1)\n",
    "        output2 = self.model2.predict(output1.reshape(-1, 1))\n",
    "        output3 = self.model3.predict(output2.reshape(-1, 1))\n",
    "\n",
    "        output = pd.DataFrame()\n",
    "        output['at_least_one'] = output1\n",
    "        output['at_least_two'] = output2\n",
    "        output['at_least_three'] = output3\n",
    "        output = output.set_index(X.index)\n",
    "        \n",
    "        return output"
   ]
  },
  {
   "cell_type": "markdown",
   "metadata": {},
   "source": [
    "Для начала попробуем обучать независимо"
   ]
  },
  {
   "cell_type": "code",
   "execution_count": 34,
   "metadata": {},
   "outputs": [
    {
     "data": {
      "text/plain": [
       "49.28"
      ]
     },
     "execution_count": 34,
     "metadata": {},
     "output_type": "execute_result"
    }
   ],
   "source": [
    "model = VKAdsRegressor(train_independently=True)\n",
    "model.fit(features_train, target_train)\n",
    "\n",
    "target_pred = model.predict(features_test)\n",
    "\n",
    "get_smoothed_mean_log_accuracy_ratio(target_test, target_pred)"
   ]
  },
  {
   "cell_type": "markdown",
   "metadata": {},
   "source": [
    "А теперь попробуем во время обучения постараться учесть ошибки модели и каждую следующую суб-модель будем обучать, используя данные предыдущей суб-модели"
   ]
  },
  {
   "cell_type": "code",
   "execution_count": 35,
   "metadata": {},
   "outputs": [
    {
     "data": {
      "text/plain": [
       "49.86"
      ]
     },
     "execution_count": 35,
     "metadata": {},
     "output_type": "execute_result"
    }
   ],
   "source": [
    "model = VKAdsRegressor(train_independently=False)\n",
    "model.fit(features_train, target_train)\n",
    "\n",
    "target_pred = model.predict(features_test)\n",
    "\n",
    "get_smoothed_mean_log_accuracy_ratio(target_test, target_pred)"
   ]
  },
  {
   "cell_type": "markdown",
   "metadata": {},
   "source": [
    "Немного странно, но получилось так что независимое обучение суб-моделей дало лучший результат, но возможно при оптимизации гиперпараметров модели всё изменится"
   ]
  },
  {
   "cell_type": "markdown",
   "metadata": {},
   "source": [
    "В итоге получили результат ~50 по предложенной метрике, что однозначно лучше чем baseline)"
   ]
  }
 ],
 "metadata": {
  "kernelspec": {
   "display_name": ".venv",
   "language": "python",
   "name": "python3"
  },
  "language_info": {
   "codemirror_mode": {
    "name": "ipython",
    "version": 3
   },
   "file_extension": ".py",
   "mimetype": "text/x-python",
   "name": "python",
   "nbconvert_exporter": "python",
   "pygments_lexer": "ipython3",
   "version": "3.11.7"
  }
 },
 "nbformat": 4,
 "nbformat_minor": 2
}
